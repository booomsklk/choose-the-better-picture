{
 "cells": [
  {
   "cell_type": "code",
   "execution_count": 6,
   "metadata": {
    "collapsed": true
   },
   "outputs": [],
   "source": [
    "#[方法（左），方法（右），图片序号，选择（左或右），选择的方法]"
   ]
  },
  {
   "cell_type": "code",
   "execution_count": 7,
   "metadata": {
    "collapsed": false
   },
   "outputs": [
    {
     "name": "stdout",
     "output_type": "stream",
     "text": [
      "{1: 'BiGAN', 2: 'cr', 3: 'lg', 4: 'multiop', 5: 'osa'}\n",
      "{1: 'bicycle1', 2: 'boat', 3: 'Brasserie_L_Aficion', 4: 'butterfly'}\n",
      "method number:5\n",
      "picture number:4\n",
      "[[4, 3, 4, 1, 3], [3, 4, 2, 1, 4], [3, 1, 1, 1, 1], [2, 3, 4, 1, 3], [4, 1, 2, 1, 1], [4, 3, 1, 1, 3], [4, 2, 3, 1, 2], [5, 3, 4, 1, 3], [4, 5, 4, 1, 5], [2, 5, 4, 1, 5], [5, 1, 1, 1, 1], [2, 4, 2, 1, 4], [2, 5, 1, 1, 5], [2, 3, 2, 1, 3], [5, 2, 2, 1, 2], [2, 1, 1, 1, 1], [1, 5, 4, 1, 5], [4, 5, 3, 1, 5], [4, 1, 4, 1, 1], [4, 1, 3, 1, 1], [3, 2, 1, 1, 2], [5, 1, 3, 1, 1], [3, 2, 3, 1, 2], [4, 1, 1, 1, 1], [4, 5, 1, 1, 5], [2, 4, 1, 1, 4], [5, 3, 2, 1, 3], [1, 5, 2, 1, 5], [1, 3, 2, 1, 3], [1, 3, 3, 1, 3], [1, 3, 4, 1, 3], [3, 5, 3, 1, 5], [3, 5, 1, 1, 5], [4, 5, 2, 1, 5], [4, 3, 3, 1, 3], [2, 4, 4, 1, 4], [2, 5, 3, 1, 5], [1, 2, 2, 1, 2], [2, 1, 4, 1, 1], [1, 2, 3, 1, 2]]\n",
      "[9, 6, 10, 4, 11]\n"
     ]
    }
   ],
   "source": [
    "from tkinter import *\n",
    "from PIL import Image, ImageTk\n",
    "import random\n",
    "import re\n",
    "import os\n",
    "\n",
    "\n",
    "#获取测试者的用户名\n",
    "name = []\n",
    "\n",
    "def getname():\n",
    "    name.append(En.get())\n",
    "    root0.destroy()\n",
    "    \n",
    "root0=Tk()\n",
    "#昵称不要有空格\n",
    "label=Label(root0,text='请输入您的昵称:',anchor='c').grid(row=0)\n",
    "En=Entry(root0)\n",
    "En.grid(row=0,column=1)\n",
    "Button(root0,text='确定',anchor='c',width=6,height=1, command=getname).grid(row=2,column=1)\n",
    "root0.mainloop()\n",
    "\n",
    "\n",
    "#choice为用户的选择，由0和1组成。0表示选择左图，1表示选择右图\n",
    "choice = []\n",
    "\n",
    "\n",
    "#用字典为所有方法编号\n",
    "path_methods = 'D:\\jupyter文件\\RetargetMe_dataset - 评价'\n",
    "method_list = os.listdir(path_methods)\n",
    "method_list = [w for w in method_list if not re.search('[\\.]', w)]\n",
    "method_list.remove('original_image')\n",
    "method_dict = {}\n",
    "for i in range(1,len(method_list)+1):\n",
    "    method_dict[i] = method_list[i-1]\n",
    "print(method_dict)\n",
    "\n",
    "\n",
    "#用字典为所有图片编号\n",
    "path_pictures = 'D:\\jupyter文件\\RetargetMe_dataset - 评价\\original_image'\n",
    "picture_list = os.listdir(path_pictures)\n",
    "picture_list = [re.sub('\\.png','', w) for w in picture_list]\n",
    "picture_dict = {}\n",
    "for i in range(1,len(picture_list)+1):\n",
    "    picture_dict[i] = picture_list[i-1]\n",
    "print(picture_dict)\n",
    "\n",
    "method_num = len(method_list)     #方法数量\n",
    "picture_num = len(picture_list)    #图片数量\n",
    "print(\"method number:\"+ str(method_num))\n",
    "print(\"picture number:\"+ str(picture_num))\n",
    "\n",
    "#根据方法与原始图片名，找到该方法对应的图片名\n",
    "def pic_name(var, pic):\n",
    "    return {\n",
    "        'BiGAN': 'step9299_img_' + pic + '.png', \n",
    "        'cr': pic + '_0.50_cr.png', \n",
    "        'lg': pic + '_0.50_lg.png', \n",
    "        'multiop': pic + '_0.50_multiop.png', \n",
    "        'osa': pic + '_0.50_osa.png', \n",
    "        'qp': pic + '_0.50_qp.png', \n",
    "        'sc': pic + '_0.50_sc.png', \n",
    "        'scl': pic + '_0.50_scl.png', \n",
    "        'sv': pic + '_0.50_sv.png', \n",
    "        'warp': pic + '_0.50_warp.png'\n",
    "    }.get(var,'error')    #'error'为默认返回值，可自设置\n",
    "pic_name('warp','eagle')\n",
    "\n",
    "\n",
    "#“left”、“right”按钮所对应的指令\n",
    "def data_append():\n",
    "    choice.append(data.get())  #将用户选择“左”或“右”加入choice列表\n",
    "    root.destroy()   #终止本次循环，进入下一组选择\n",
    "\n",
    "\n",
    "list_b = []\n",
    "for k in range(1, picture_num+1):\n",
    "    list_a = []\n",
    "    # 从各种方法中取2种组合，并随机打乱顺序\n",
    "    for i in range(1,method_num):\n",
    "        for j in range(i+1,method_num+1):\n",
    "            tmp = [i, j]\n",
    "            random.shuffle(tmp)\n",
    "            #list_a用来记录这些方法的组合。以3种方法为例，list_a可以为：[[2, 1], [1, 3], [3, 2]]\n",
    "            list_a.append(tmp)\n",
    "    #每张图片都要经过list_a的组合进行比较，用list_b来记录，元素格式为：[方法（左），方法（右），图片序号]\n",
    "    list_b += [l+[k] for l in list_a]\n",
    "\n",
    "random.shuffle(list_b)\n",
    "# 以4张图片为例，随机排序后的list_b可以为：\n",
    "#[[1, 2, 1], [1, 3, 1], [2, 3, 1], [1, 2, 2], [1, 3, 2], [2, 3, 2], [2, 1, 3], [3, 1, 3], [2, 3, 3], [1, 2, 4], [1, 3, 4], [3, 2, 4]]\n",
    "\n",
    "note_s = '''用户对方法1结果图、方法2结果图进行偏好选择，选择的依据是：\n",
    "            图像是否看上去自然、美观、无明显的扭曲变形，以及完整的保持了原始图像中的重要内容'''\n",
    " \n",
    "\n",
    "def resize(w_box, h_box, picture):\n",
    "    width, height = picture.size #获取图像的原始大小 \n",
    "    f1 = 1.0 * w_box / width\n",
    "    f2 = 1.0 * h_box / height   \n",
    "    factor = min([f1, f2])   \n",
    "    width = int(width * factor)    \n",
    "    height = int(height * factor)    \n",
    "    return picture.resize((width, height), Image.ANTIALIAS)   \n",
    "    \n",
    "item_to_delete = []\n",
    "    \n",
    "for i in range(len(list_b)):\n",
    "    path_originalpic = \"RetargetMe_dataset - 评价/original_image/\"+picture_dict[list_b[i][2]]+\".png\"\n",
    "    path_leftpic = \"RetargetMe_dataset - 评价/\"+method_dict[list_b[i][0]]+\"/\"+pic_name(method_dict[list_b[i][0]],picture_dict[list_b[i][2]])\n",
    "    path_rightpic = \"RetargetMe_dataset - 评价/\"+method_dict[list_b[i][1]]+\"/\"+pic_name(method_dict[list_b[i][1]],picture_dict[list_b[i][2]])\n",
    "        \n",
    "    if os.path.exists(path_originalpic) and os.path.exists(path_leftpic) and os.path.exists(path_rightpic):\n",
    "        root = Tk()\n",
    "\n",
    "        #加载原图\n",
    "        load_0 = Image.open(path_originalpic)\n",
    "        load_0 = resize(440, 400, load_0)\n",
    "        render_0= ImageTk.PhotoImage(load_0)\n",
    "        img_0 = Label(root,image=render_0)\n",
    "        img_0.image = render_0\n",
    "        img_0.place(x=0,y=0)  #设置图片放置位置\n",
    "\n",
    "        #加载左图。路径与list_b中的列表项有关\n",
    "        load_1 = Image.open(path_leftpic)\n",
    "        load_1 = resize(300, 400, load_1)\n",
    "        render_1= ImageTk.PhotoImage(load_1)\n",
    "        img_1 = Label(root,image=render_1)\n",
    "        img_1.image = render_1\n",
    "        img_1.place(x=load_0.size[0]+100,y=0)  #设置图片放置位置\n",
    "\n",
    "        #加载右图。路径与list_b中的列表项有关\n",
    "        load_2 = Image.open(path_rightpic)\n",
    "        load_2 = resize(300, 400, load_2)\n",
    "        render_2= ImageTk.PhotoImage(load_2)\n",
    "        img_2 = Label(root,image=render_2)\n",
    "        img_2.image = render_2\n",
    "        img_2.place(x=load_0.size[0]+load_1.size[0]+200,y=0)   #设置图片放置位置\n",
    "\n",
    "        #设置窗口的大小\n",
    "        width = load_0.size[0]+load_1.size[0]+load_2.size[0]+210\n",
    "        height = max(load_1.size[1],load_2.size[1])+130\n",
    "        # K: 固定窗口位置不然晃来晃去的有点麻烦\n",
    "        root.geometry(\"+10+30\")\n",
    "        root.geometry('%dx%d'%(width,height))\n",
    "        root.title(\"Choose The Better One\")\n",
    "\n",
    "        label_original = Label(root, text=\"原始图像\", width=int(load_0.size[0]/8), height=1,bg=\"grey\", font=(\"黑体\", 11))\n",
    "        label_m1 = Label(root, text=\"方法1结果图\", width=int(load_1.size[0]/8), height=1,bg=\"grey\", font=(\"黑体\", 11))\n",
    "        label_m2 = Label(root, text=\"方法2结果图\", width=int(load_2.size[0]/8), height=1,bg=\"grey\", font=(\"黑体\", 11))\n",
    "        label_original.place(x=0,y=load_0.size[1]+1)\n",
    "        label_m1.place(x=load_0.size[0]+100,y=load_1.size[1]+1)\n",
    "        label_m2.place(x=load_0.size[0]+load_1.size[0]+200,y=load_2.size[1]+1)\n",
    "\n",
    "        note = Label(root, text=note_s, width=100, height=3, font=(\"黑体\", 11))\n",
    "        note.pack(side=BOTTOM)\n",
    "        #note.place(x=0,y=max(load_0.size[1],load_1.size[1],load_2.size[1])+70)\n",
    "\n",
    "        data = IntVar()\n",
    "        #设置“左”与“右”按钮\n",
    "        left_button = Radiobutton(root, text = \"Left\", width=int(load_1.size[0]/9), height=1, variable=data, value=0, \n",
    "                                  bg=\"white\", font=(\"黑体\", 12), command = data_append)\n",
    "        right_button = Radiobutton(root, text = \"Right\", width=int(load_2.size[0]/9), height=1, variable=data, value=1, \n",
    "                                   bg=\"white\", font=(\"黑体\", 12), command = data_append)\n",
    "        left_button.place(x=load_0.size[0]+100,y=load_1.size[1]+30)\n",
    "        right_button.place(x=load_0.size[0]+load_1.size[0]+200,y=load_2.size[1]+30)\n",
    "\n",
    "        root.mainloop()\n",
    "    else:\n",
    "        item_to_delete.append(list_b[i])\n",
    "\n",
    "for i in item_to_delete:\n",
    "    list_b.remove(i)\n",
    "        \n",
    "#list_b中元素原本的格式为：[方法（左），方法（右），图片序号]，现在加上用户的选择（0或1），与0、1对应的方法\n",
    "#更改后格式：[方法（左），方法（右），图片序号，选择（左或右），选择的方法]\n",
    "for i in range(len(list_b)):\n",
    "    list_b[i].append(choice[i])\n",
    "    list_b[i].append(list_b[i][choice[i]])\n",
    "\n",
    "#method_count所记录的是每一个方法由一名用户选择的数量，如：[1, 6, 5]，表示方法1选择1次，方法2选择6次，方法3选择5次\n",
    "method_count = [0 for i in range(method_num)]\n",
    "for i in range(len(list_b)):\n",
    "    method_count[list_b[i][4]-1] += 1\n",
    "    \n",
    "print(list_b)\n",
    "print(method_count)"
   ]
  },
  {
   "cell_type": "code",
   "execution_count": 8,
   "metadata": {
    "collapsed": true
   },
   "outputs": [],
   "source": [
    "#将本次用户的选择存入文档\n",
    "with open('RetargetMe_dataset - 评价/results.txt', 'a') as fw:\n",
    "      fw.write(' '.join([str(i) for i in method_count]) +' '+str(name[0]) + '\\n')"
   ]
  },
  {
   "cell_type": "code",
   "execution_count": 9,
   "metadata": {
    "collapsed": false
   },
   "outputs": [
    {
     "name": "stdout",
     "output_type": "stream",
     "text": [
      "[['9', '6', '10', '4', '11', 'tester1']]\n"
     ]
    }
   ],
   "source": [
    "#读取所有用户的选择\n",
    "results=[]\n",
    "with open('RetargetMe_dataset - 评价/results.txt','r') as fr:\n",
    "    for line in fr:\n",
    "        results.append(list(line.strip('\\n').split(' ')))\n",
    "print(results)"
   ]
  },
  {
   "cell_type": "code",
   "execution_count": 10,
   "metadata": {
    "collapsed": false
   },
   "outputs": [
    {
     "name": "stdout",
     "output_type": "stream",
     "text": [
      "Choices made by user tester1 ['9', '6', '10', '4', '11']\n"
     ]
    }
   ],
   "source": [
    "for result in results:\n",
    "    print(\"Choices made by user\", result[-1], result[:-1])"
   ]
  },
  {
   "cell_type": "code",
   "execution_count": 11,
   "metadata": {
    "collapsed": false
   },
   "outputs": [
    {
     "data": {
      "text/plain": [
       "[9, 6, 10, 4, 11]"
      ]
     },
     "execution_count": 11,
     "metadata": {},
     "output_type": "execute_result"
    }
   ],
   "source": [
    "#method_sum为所有用户的选择\n",
    "method_sum =  [0 for i in range(method_num)]\n",
    "for i in range(len(results)):\n",
    "    for j in range(method_num):\n",
    "        method_sum[j] += int(results[i][j])\n",
    "method_sum"
   ]
  },
  {
   "cell_type": "code",
   "execution_count": 12,
   "metadata": {
    "collapsed": false
   },
   "outputs": [
    {
     "name": "stdout",
     "output_type": "stream",
     "text": [
      "Score for method BiGAN :  9\n",
      "Score for method cr :  6\n",
      "Score for method lg :  10\n",
      "Score for method multiop :  4\n",
      "Score for method osa :  11\n"
     ]
    }
   ],
   "source": [
    "method_num = 1\n",
    "for score in method_sum:\n",
    "    print(\"Score for method\", method_dict[method_num], \": \", score)\n",
    "    method_num += 1"
   ]
  },
  {
   "cell_type": "code",
   "execution_count": null,
   "metadata": {
    "collapsed": true
   },
   "outputs": [],
   "source": []
  }
 ],
 "metadata": {
  "kernelspec": {
   "display_name": "Python 3",
   "language": "python",
   "name": "python3"
  },
  "language_info": {
   "codemirror_mode": {
    "name": "ipython",
    "version": 3
   },
   "file_extension": ".py",
   "mimetype": "text/x-python",
   "name": "python",
   "nbconvert_exporter": "python",
   "pygments_lexer": "ipython3",
   "version": "3.6.2"
  }
 },
 "nbformat": 4,
 "nbformat_minor": 2
}
